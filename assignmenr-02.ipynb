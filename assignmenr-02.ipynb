{
 "cells": [
  {
   "cell_type": "markdown",
   "id": "e34cd9b5-2056-4cfe-b0c7-81e681e43c76",
   "metadata": {},
   "source": [
    "## ASSIGNMENT "
   ]
  },
  {
   "cell_type": "markdown",
   "id": "225ae303-55de-49e1-ba69-24cdba3d98c3",
   "metadata": {},
   "source": [
    "Q1. Which keyword is used to create a function? Create a function to return a list of odd numbers in the\n",
    "range of 1 to 25."
   ]
  },
  {
   "cell_type": "markdown",
   "id": "1265935d-0d06-4a95-8b78-b88bb548c272",
   "metadata": {},
   "source": [
    "def is a keyword used to create fuction.\n",
    "fuction for return list of odd numbers inhe range of 1 to 25"
   ]
  },
  {
   "cell_type": "code",
   "execution_count": 3,
   "id": "735b16dc-6abe-43b3-a4af-2d1ee6f75f3a",
   "metadata": {},
   "outputs": [],
   "source": [
    "def odd_number1_25():\n",
    "    number_list = list(range(1,25))\n",
    "    odd_number = []\n",
    "    for  i in range(1,26):\n",
    "        if i  % 2 != 0:\n",
    "            odd_number.append(i)\n",
    "    print(odd_number)       \n",
    "            "
   ]
  },
  {
   "cell_type": "code",
   "execution_count": 4,
   "id": "71962d8a-752d-4f38-95ff-4a3d74c705ec",
   "metadata": {},
   "outputs": [
    {
     "name": "stdout",
     "output_type": "stream",
     "text": [
      "[1, 3, 5, 7, 9, 11, 13, 15, 17, 19, 21, 23, 25]\n"
     ]
    }
   ],
   "source": [
    "odd_number1_25()"
   ]
  },
  {
   "cell_type": "markdown",
   "id": "a671aff6-52a0-49a2-9a01-5907dae8feb9",
   "metadata": {},
   "source": [
    "Q2. Why *args and **kwargs is used in some functions? Create a function each for *args and **kwargs\n",
    "to demonstrate their use."
   ]
  },
  {
   "cell_type": "markdown",
   "id": "75e35c19-f3e1-4adc-9756-0d1680d0f44f",
   "metadata": {},
   "source": [
    "Because,in Python, *args and **kwargs are special syntax used in function definitions to allow a variable number of arguments to be passed to a function."
   ]
  },
  {
   "cell_type": "markdown",
   "id": "f180ac6a-1e79-4f8c-9dca-9be666065054",
   "metadata": {},
   "source": [
    "why *args used in python with example - \n",
    "*args is used to pass a variable number of non-keyword arguments to a function. The * before the parameter name tells Python to pack all non-keyword arguments into a tuple named args. This is useful when we don't know how many arguments we need to pass."
   ]
  },
  {
   "cell_type": "code",
   "execution_count": 6,
   "id": "bec226c5-79fa-4246-86be-62dd6979f78f",
   "metadata": {},
   "outputs": [
    {
     "name": "stdout",
     "output_type": "stream",
     "text": [
      "6\n",
      "100\n"
     ]
    }
   ],
   "source": [
    "#example for *args\n",
    "def sum_values(*args):\n",
    "    total_sum = 0\n",
    "    for value in args:\n",
    "        total_sum += value\n",
    "    return total_sum\n",
    "\n",
    "print(sum_values(1, 2, 3)) # Output: 6\n",
    "print(sum_values(10, 20, 30, 40)) # Output: 100\n"
   ]
  },
  {
   "cell_type": "markdown",
   "id": "37f10837-eb2e-4e73-859f-592bfe1380b1",
   "metadata": {},
   "source": [
    "why **kwargs used in python with example -"
   ]
  },
  {
   "cell_type": "markdown",
   "id": "44c200e1-9980-4aba-be63-4e4d37e33314",
   "metadata": {},
   "source": [
    "**kwargs, on the other hand, is used to pass a variable number of keyword arguments to a function. The ** before the parameter name tells Python to pack all keyword arguments into a dictionary named kwargs. This is useful when we don't know how many keyword arguments we need to pass."
   ]
  },
  {
   "cell_type": "code",
   "execution_count": 11,
   "id": "d1ccc21e-f2e7-4c0c-8d13-846e503d846c",
   "metadata": {},
   "outputs": [
    {
     "name": "stdout",
     "output_type": "stream",
     "text": [
      "name : jay\n",
      "age : 27\n",
      "city : amalner\n"
     ]
    }
   ],
   "source": [
    "def print_values(**kwargs):\n",
    "    for key, value in kwargs.items():\n",
    "        print(key, \":\", value)\n",
    "\n",
    "print_values(name=\"jay\", age=27, city=\"amalner\")\n"
   ]
  },
  {
   "cell_type": "markdown",
   "id": "c447055a-4499-432c-a28f-89cec7f6b146",
   "metadata": {},
   "source": [
    "Q.3 What is an iterator in python? Name the method used to initialise the iterator object and the method\n",
    "used for iteration. Use these methods to print the first five elements of the given list [2, 4, 6, 8, 10, 12, 14,\n",
    "16, 18, 20].\n"
   ]
  },
  {
   "cell_type": "markdown",
   "id": "5094f07b-85ec-464e-b098-e6e217ca88ff",
   "metadata": {},
   "source": [
    "What is iterator in python and its method - \n",
    "\n",
    "An iterator is an object in Python that represents a stream of data. It implements the iterator protocol, which consists of two methods: __iter__() and __next__().\n",
    "\n",
    "The __iter__() method is used to initialize an iterator object. It returns the iterator object itself.\n",
    "\n",
    "The __next__() method is used to iterate over the elements of the iterator object. It returns the next element in the sequence or raises the StopIteration exception if there are no more elements."
   ]
  },
  {
   "cell_type": "code",
   "execution_count": 12,
   "id": "f47bc8e1-0699-475e-aa1c-d3a559206c01",
   "metadata": {},
   "outputs": [
    {
     "name": "stdout",
     "output_type": "stream",
     "text": [
      "2\n",
      "4\n",
      "6\n",
      "8\n",
      "10\n"
     ]
    }
   ],
   "source": [
    "#example\n",
    "my_list = [2, 4, 6, 8, 10, 12, 14, 16, 18, 20]\n",
    "my_iterator = iter(my_list)\n",
    "\n",
    "for i in range(5):\n",
    "    print(next(my_iterator))\n"
   ]
  },
  {
   "cell_type": "markdown",
   "id": "7f3d0cec-2290-444a-b013-f91f063df61b",
   "metadata": {},
   "source": [
    "Q.4 What is a generator function in python? Why yield keyword is used? Give an example of a generator\n",
    "function."
   ]
  },
  {
   "cell_type": "markdown",
   "id": "ed24b818-eb67-4932-87a3-dc8888cd4975",
   "metadata": {},
   "source": [
    "A generator function in Python is a special type of function that allows you to generate a sequence of values using the yield keyword instead of returning a single value with the return keyword.\n",
    "\n",
    "A generator function allows you to generate values on the fly, as they are needed, rather than generating them all at once and storing them in memory. This makes generator functions much more memory efficient than regular functions, especially when generating large sequences.\n",
    "\n",
    "The yield keyword is used in generator functions to indicate where the generator should \"yield\" control to the calling code and return a value."
   ]
  },
  {
   "cell_type": "code",
   "execution_count": 18,
   "id": "e6110a53-5e81-4232-a39f-03f8355e2dfe",
   "metadata": {},
   "outputs": [
    {
     "name": "stdout",
     "output_type": "stream",
     "text": [
      "0\n",
      "2\n",
      "4\n",
      "6\n",
      "8\n",
      "10\n",
      "12\n",
      "14\n"
     ]
    }
   ],
   "source": [
    "#example of generator function\n",
    "def even_numbers(limit):\n",
    "    num = 0\n",
    "    while num < limit:\n",
    "        yield num\n",
    "        num += 2\n",
    "\n",
    "for i in even_numbers(15):\n",
    "    print(i)\n"
   ]
  },
  {
   "cell_type": "markdown",
   "id": "80b84ec7-7a4a-4188-93f5-1338d114baa3",
   "metadata": {},
   "source": [
    "Q.5 Create a generator function for prime numbers less than 1000. Use the next() method to print the\n",
    "first 20 prime numbers."
   ]
  },
  {
   "cell_type": "code",
   "execution_count": 19,
   "id": "82d34767-9dbd-4f61-af87-c68bede1e356",
   "metadata": {},
   "outputs": [],
   "source": [
    "def primes():\n",
    "    num = 2\n",
    "    while True:\n",
    "        if all(num % i != 0 for i in range(2, int(num ** 0.5) + 1)):\n",
    "            yield num\n",
    "        num += 1\n",
    "        if num >= 1000:\n",
    "            break\n"
   ]
  },
  {
   "cell_type": "code",
   "execution_count": 20,
   "id": "8014336e-a6b6-4d7c-81f5-1e11988ec54a",
   "metadata": {},
   "outputs": [
    {
     "name": "stdout",
     "output_type": "stream",
     "text": [
      "2\n",
      "3\n",
      "5\n",
      "7\n",
      "11\n",
      "13\n",
      "17\n",
      "19\n",
      "23\n",
      "29\n",
      "31\n",
      "37\n",
      "41\n",
      "43\n",
      "47\n",
      "53\n",
      "59\n",
      "61\n",
      "67\n",
      "71\n"
     ]
    }
   ],
   "source": [
    "prime_generator = primes()\n",
    "\n",
    "for i in range(20):\n",
    "    print(next(prime_generator))\n"
   ]
  },
  {
   "cell_type": "markdown",
   "id": "c5abbdf8-b6ad-4495-a825-d1ee57888e37",
   "metadata": {},
   "source": [
    "Q6. Write a python program to print the first 10 Fibonacci numbers using a while loop."
   ]
  },
  {
   "cell_type": "code",
   "execution_count": 21,
   "id": "c78865d8-93ee-4e51-862a-b4d3a43432ba",
   "metadata": {},
   "outputs": [
    {
     "name": "stdout",
     "output_type": "stream",
     "text": [
      "0 1 1 2 3 5 8 13 21 34 "
     ]
    }
   ],
   "source": [
    "a, b = 0, 1\n",
    "count = 0\n",
    "\n",
    "while count < 10:\n",
    "    print(a, end=' ')\n",
    "    c = a + b\n",
    "    a = b\n",
    "    b = c\n",
    "    count += 1\n"
   ]
  },
  {
   "cell_type": "markdown",
   "id": "5c659b2e-96b2-4b7a-8abd-70e69de7b930",
   "metadata": {},
   "source": [
    "Q7. Write a List Comprehension to iterate through the given string: ‘pwskills’.\n",
    "Expected output: ['p', 'w', 's', 'k', 'i', 'l', 'l', 's']"
   ]
  },
  {
   "cell_type": "code",
   "execution_count": 22,
   "id": "875eba97-fa71-49a3-9c12-13d37e6522cf",
   "metadata": {},
   "outputs": [
    {
     "name": "stdout",
     "output_type": "stream",
     "text": [
      "['p', 'w', 's', 'k', 'i', 'l', 'l', 's']\n"
     ]
    }
   ],
   "source": [
    "s = 'pwskills'\n",
    "result = [char for char in s if char in 'pwskills']\n",
    "print(result)\n"
   ]
  },
  {
   "cell_type": "markdown",
   "id": "1627c554-bbd9-46b5-8829-0a95bbcac9cd",
   "metadata": {},
   "source": [
    "Q8. Write a python program to check whether a given number is Palindrome or not using a while loop."
   ]
  },
  {
   "cell_type": "code",
   "execution_count": 23,
   "id": "1ca0a2b7-90f8-4d5e-b7a2-ca6a09547fdf",
   "metadata": {},
   "outputs": [
    {
     "name": "stdin",
     "output_type": "stream",
     "text": [
      "Enter a number:  25\n"
     ]
    },
    {
     "name": "stdout",
     "output_type": "stream",
     "text": [
      "25 is not a Palindrome number\n"
     ]
    }
   ],
   "source": [
    "num = int(input(\"Enter a number: \"))\n",
    "temp = num\n",
    "reverse_num = 0\n",
    "\n",
    "while temp != 0:\n",
    "    remainder = temp % 10\n",
    "    reverse_num = (reverse_num * 10) + remainder\n",
    "    temp //= 10\n",
    "\n",
    "if num == reverse_num:\n",
    "    print(num, \"is a Palindrome number\")\n",
    "else:\n",
    "    print(num, \"is not a Palindrome number\")\n"
   ]
  },
  {
   "cell_type": "markdown",
   "id": "f61d5d0d-b688-4064-ac91-0f24b56bd88d",
   "metadata": {},
   "source": [
    "Q9. Write a code to print odd numbers from 1 to 100 using list comprehension.\n"
   ]
  },
  {
   "cell_type": "code",
   "execution_count": null,
   "id": "ffb180cc-fa10-49bd-b8aa-cd1db64c1c42",
   "metadata": {},
   "outputs": [],
   "source": []
  }
 ],
 "metadata": {
  "kernelspec": {
   "display_name": "Python 3 (ipykernel)",
   "language": "python",
   "name": "python3"
  },
  "language_info": {
   "codemirror_mode": {
    "name": "ipython",
    "version": 3
   },
   "file_extension": ".py",
   "mimetype": "text/x-python",
   "name": "python",
   "nbconvert_exporter": "python",
   "pygments_lexer": "ipython3",
   "version": "3.10.8"
  }
 },
 "nbformat": 4,
 "nbformat_minor": 5
}
